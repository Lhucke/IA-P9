{
 "cells": [
  {
   "cell_type": "code",
   "execution_count": 1,
   "id": "aabaae49",
   "metadata": {},
   "outputs": [],
   "source": [
    "# Import des librairies\n",
    "import os\n",
    "import pandas as pd\n",
    "import numpy as np\n",
    "from sklearn.metrics.pairwise import cosine_similarity\n",
    "from sklearn import decomposition"
   ]
  },
  {
   "cell_type": "code",
   "execution_count": 2,
   "id": "f3b4cc8e",
   "metadata": {},
   "outputs": [],
   "source": [
    "# Import des données\n",
    "clicks_sample = pd.read_csv('../1-Données/clicks_sample.csv', sep=\",\")\n",
    "clicks_folder = \"../1-Données/clicks/\"\n",
    "articles_metadata = pd.read_csv('../1-Données/articles_metadata.csv', sep=\",\")\n",
    "articles_embeddings = pd.read_pickle('../1-Données/articles_embeddings.pickle')"
   ]
  },
  {
   "cell_type": "code",
   "execution_count": 3,
   "id": "120ac94b",
   "metadata": {},
   "outputs": [],
   "source": [
    "# Dataframe de tous les clics\n",
    "df_clicks = pd.DataFrame()\n",
    "for f in os.listdir(clicks_folder):\n",
    "    df = pd.read_csv(clicks_folder + f)\n",
    "    df_clicks = pd.concat([df_clicks, df])"
   ]
  },
  {
   "cell_type": "code",
   "execution_count": 4,
   "id": "c3b6fdbc",
   "metadata": {},
   "outputs": [],
   "source": [
    "# Entrée\n",
    "id_user = 1"
   ]
  },
  {
   "cell_type": "code",
   "execution_count": 5,
   "id": "34ec9f6e",
   "metadata": {},
   "outputs": [],
   "source": [
    "# Fonction\n",
    "# Sort un dataframe comprenant les 5 articles les plus proches de l'article ainsi que leur score\n",
    "def get_best_articles(id_article):\n",
    "    similarities = np.squeeze(cosine_similarity(articles_embeddings[:,:], articles_embeddings[id_article,:].reshape(1, 250)))\n",
    "    indices_max = np.argsort(-similarities)[1:6]\n",
    "    return pd.DataFrame([indices_max, similarities[indices_max]], index=['article', 'score'])"
   ]
  },
  {
   "cell_type": "code",
   "execution_count": 6,
   "id": "28152d07",
   "metadata": {},
   "outputs": [],
   "source": [
    "# Liste des articles vus par un utilisateur\n",
    "user_articles = df_clicks.loc[df_clicks['user_id']==id_user]['click_article_id']\n",
    "\n",
    "# Création du dataframe contenant les recommandations\n",
    "df_best_articles = pd.DataFrame()\n",
    "\n",
    "# Parcours des articles vus par l'utilisateur\n",
    "for i, article in user_articles.iteritems():\n",
    "    # Récupère 5 plus proches articles et les concatène dans un df\n",
    "    df = get_best_articles(article)\n",
    "    df_best_articles = pd.concat([df_best_articles, df], axis=1)\n",
    "\n",
    "# Tri de tous les articles de l'utilsateur selon leur score\n",
    "df_best_articles.sort_values(by=['score'], axis=1, ascending=False)\n",
    "df_best_articles.columns = range(len(df_best_articles.columns))\n",
    "\n",
    "# Liste des 5 meilleures recommandations \n",
    "results = []\n",
    "i = 0\n",
    "j = 0\n",
    "while j < 5:\n",
    "    if  not df_best_articles[i][\"article\"] in user_articles.unique():\n",
    "        results.append(int(df_best_articles[i][\"article\"]))\n",
    "        j = j + 1\n",
    "    i = i + 1"
   ]
  },
  {
   "cell_type": "code",
   "execution_count": 7,
   "id": "7697fc71",
   "metadata": {},
   "outputs": [
    {
     "data": {
      "text/plain": [
       "[60509, 235312, 235410, 108443, 234819]"
      ]
     },
     "execution_count": 7,
     "metadata": {},
     "output_type": "execute_result"
    }
   ],
   "source": [
    "# Sortie\n",
    "results"
   ]
  },
  {
   "cell_type": "code",
   "execution_count": null,
   "id": "e5884175",
   "metadata": {},
   "outputs": [],
   "source": []
  }
 ],
 "metadata": {
  "kernelspec": {
   "display_name": "Python 3 (ipykernel)",
   "language": "python",
   "name": "python3"
  },
  "language_info": {
   "codemirror_mode": {
    "name": "ipython",
    "version": 3
   },
   "file_extension": ".py",
   "mimetype": "text/x-python",
   "name": "python",
   "nbconvert_exporter": "python",
   "pygments_lexer": "ipython3",
   "version": "3.9.12"
  }
 },
 "nbformat": 4,
 "nbformat_minor": 5
}
