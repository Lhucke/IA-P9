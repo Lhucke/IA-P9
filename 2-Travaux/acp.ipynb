{
 "cells": [
  {
   "cell_type": "code",
   "execution_count": 1,
   "id": "41a1cc87",
   "metadata": {},
   "outputs": [],
   "source": [
    "# Import des librairies\n",
    "import os\n",
    "import pandas as pd\n",
    "import numpy as np\n",
    "from sklearn import decomposition"
   ]
  },
  {
   "cell_type": "code",
   "execution_count": 2,
   "id": "3a9fdc96",
   "metadata": {},
   "outputs": [],
   "source": [
    "# Import des données\n",
    "clicks_folder = \"../1-Données/clicks/\"\n",
    "articles_embeddings = pd.read_pickle('../1-Données/articles_embeddings.pickle')"
   ]
  },
  {
   "cell_type": "code",
   "execution_count": 38,
   "id": "e0b8fa08",
   "metadata": {},
   "outputs": [
    {
     "data": {
      "text/plain": [
       "(506068, 12)"
      ]
     },
     "execution_count": 38,
     "metadata": {},
     "output_type": "execute_result"
    }
   ],
   "source": [
    "# Dataframe d'une partie des clics\n",
    "df_clicks = pd.DataFrame()\n",
    "i = 1\n",
    "for f in os.listdir(clicks_folder):\n",
    "    if i > 500000 :\n",
    "        break\n",
    "    else:\n",
    "        df = pd.read_csv(clicks_folder + f)\n",
    "        i = i + df.shape[0]\n",
    "        df_clicks = pd.concat([df_clicks, df])\n",
    "df_clicks.shape        "
   ]
  },
  {
   "cell_type": "code",
   "execution_count": 37,
   "id": "a56ceb5d",
   "metadata": {},
   "outputs": [],
   "source": [
    "# Enregistrement dans une fichier pickle\n",
    "df_clicks.to_pickle('../1-Données/clicks_reduced.pickle')"
   ]
  },
  {
   "cell_type": "code",
   "execution_count": 3,
   "id": "943d3574",
   "metadata": {},
   "outputs": [
    {
     "data": {
      "text/plain": [
       "PCA()"
      ]
     },
     "execution_count": 3,
     "metadata": {},
     "output_type": "execute_result"
    }
   ],
   "source": [
    "# ACP sur le fichier articles_embeddings\n",
    "pca = decomposition.PCA()\n",
    "pca.fit(articles_embeddings)"
   ]
  },
  {
   "cell_type": "code",
   "execution_count": 4,
   "id": "d9f4c0d7",
   "metadata": {},
   "outputs": [],
   "source": [
    "# On recalcule les coefficients avec ceux de l'acp\n",
    "articles_pca = pca.fit_transform(articles_embeddings)"
   ]
  },
  {
   "cell_type": "code",
   "execution_count": 5,
   "id": "2fb31c25",
   "metadata": {},
   "outputs": [],
   "source": [
    "# On garde les 30 premières colonnes (les plus importantes)\n",
    "dfpca = pd.DataFrame(articles_pca[:,:30])"
   ]
  },
  {
   "cell_type": "code",
   "execution_count": 7,
   "id": "10cd92d2",
   "metadata": {},
   "outputs": [],
   "source": [
    "# Enregistrement dans une fichier pickle\n",
    "dfpca.to_pickle('../1-Données/articles_embeddings_reduced.pickle')"
   ]
  },
  {
   "cell_type": "code",
   "execution_count": null,
   "id": "27ea637f",
   "metadata": {},
   "outputs": [],
   "source": []
  }
 ],
 "metadata": {
  "kernelspec": {
   "display_name": "Python 3 (ipykernel)",
   "language": "python",
   "name": "python3"
  },
  "language_info": {
   "codemirror_mode": {
    "name": "ipython",
    "version": 3
   },
   "file_extension": ".py",
   "mimetype": "text/x-python",
   "name": "python",
   "nbconvert_exporter": "python",
   "pygments_lexer": "ipython3",
   "version": "3.9.12"
  }
 },
 "nbformat": 4,
 "nbformat_minor": 5
}
