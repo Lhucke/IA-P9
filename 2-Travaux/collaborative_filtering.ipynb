{
 "cells": [
  {
   "cell_type": "code",
   "execution_count": 1,
   "id": "52ea82cc",
   "metadata": {},
   "outputs": [],
   "source": [
    "# Import des librairies\n",
    "import os\n",
    "import pandas as pd\n",
    "import numpy as np\n",
    "import scipy.sparse as sparse\n",
    "import implicit\n",
    "from sklearn.preprocessing import OrdinalEncoder"
   ]
  },
  {
   "cell_type": "code",
   "execution_count": 2,
   "id": "a8e01a1d",
   "metadata": {},
   "outputs": [],
   "source": [
    "# Import des données\n",
    "clicks_sample = pd.read_csv('../1-Données/clicks_sample.csv', sep=\",\")\n",
    "clicks_folder = \"../1-Données/clicks/\"\n",
    "articles_embeddings = pd.read_pickle('../1-Données/articles_embeddings.pickle')\n",
    "\n",
    "# Dataframe de tous les clics\n",
    "df_clicks = pd.DataFrame()\n",
    "for f in os.listdir(clicks_folder):\n",
    "    df = pd.read_csv(clicks_folder + f)\n",
    "    df_clicks = pd.concat([df_clicks, df])"
   ]
  },
  {
   "cell_type": "code",
   "execution_count": 3,
   "id": "1b9fe087",
   "metadata": {},
   "outputs": [],
   "source": [
    "# Dataframe comportant le nombre de clics par article par utilisateur\n",
    "count_clics = (df_clicks[[\"user_id\",\"click_article_id\"]].reset_index()\n",
    "                 .groupby([\"user_id\", \"click_article_id\"], as_index=False)\n",
    "                 .agg(count_clics=(\"index\", \"count\")))"
   ]
  },
  {
   "cell_type": "code",
   "execution_count": 6,
   "id": "0bb96487",
   "metadata": {},
   "outputs": [
    {
     "data": {
      "text/html": [
       "<div>\n",
       "<style scoped>\n",
       "    .dataframe tbody tr th:only-of-type {\n",
       "        vertical-align: middle;\n",
       "    }\n",
       "\n",
       "    .dataframe tbody tr th {\n",
       "        vertical-align: top;\n",
       "    }\n",
       "\n",
       "    .dataframe thead th {\n",
       "        text-align: right;\n",
       "    }\n",
       "</style>\n",
       "<table border=\"1\" class=\"dataframe\">\n",
       "  <thead>\n",
       "    <tr style=\"text-align: right;\">\n",
       "      <th></th>\n",
       "      <th>count_clics</th>\n",
       "    </tr>\n",
       "  </thead>\n",
       "  <tbody>\n",
       "    <tr>\n",
       "      <th>count</th>\n",
       "      <td>2.950710e+06</td>\n",
       "    </tr>\n",
       "    <tr>\n",
       "      <th>mean</th>\n",
       "      <td>1.012699e+00</td>\n",
       "    </tr>\n",
       "    <tr>\n",
       "      <th>std</th>\n",
       "      <td>1.344699e-01</td>\n",
       "    </tr>\n",
       "    <tr>\n",
       "      <th>min</th>\n",
       "      <td>1.000000e+00</td>\n",
       "    </tr>\n",
       "    <tr>\n",
       "      <th>25%</th>\n",
       "      <td>1.000000e+00</td>\n",
       "    </tr>\n",
       "    <tr>\n",
       "      <th>50%</th>\n",
       "      <td>1.000000e+00</td>\n",
       "    </tr>\n",
       "    <tr>\n",
       "      <th>75%</th>\n",
       "      <td>1.000000e+00</td>\n",
       "    </tr>\n",
       "    <tr>\n",
       "      <th>max</th>\n",
       "      <td>3.300000e+01</td>\n",
       "    </tr>\n",
       "  </tbody>\n",
       "</table>\n",
       "</div>"
      ],
      "text/plain": [
       "        count_clics\n",
       "count  2.950710e+06\n",
       "mean   1.012699e+00\n",
       "std    1.344699e-01\n",
       "min    1.000000e+00\n",
       "25%    1.000000e+00\n",
       "50%    1.000000e+00\n",
       "75%    1.000000e+00\n",
       "max    3.300000e+01"
      ]
     },
     "execution_count": 6,
     "metadata": {},
     "output_type": "execute_result"
    }
   ],
   "source": [
    "count_clics.describe()"
   ]
  },
  {
   "cell_type": "markdown",
   "id": "81f44b9b",
   "metadata": {},
   "source": [
    "On observe une moyenne très faible mais toutefois supérieure à 1.\n",
    "On peut donc utiliser le nombre d'articles cliqués comme \"note\" pour notre modèle de recommandations."
   ]
  },
  {
   "cell_type": "code",
   "execution_count": 8,
   "id": "d0b68705",
   "metadata": {},
   "outputs": [],
   "source": [
    "# Encodage des numéros d'articles et d'utilisateur entre 0 et leur nombre-1\n",
    "encoder = OrdinalEncoder(dtype=\"int\")\n",
    "count_clics_encoded = pd.DataFrame(encoder.fit_transform(count_clics[[\"user_id\", \"click_article_id\"]]),\n",
    "                    columns=[\"user_id\", \"click_article_id\"])\n",
    "count_clics_encoded[\"count_clics\"] = count_clics[\"count_clics\"]"
   ]
  },
  {
   "cell_type": "code",
   "execution_count": 10,
   "id": "8389730d",
   "metadata": {},
   "outputs": [],
   "source": [
    "# Pré-traitement\n",
    "# Création de la matrice creuse pour l'algorithme de recommandations\n",
    "count_clics_sparsed = sparse.csr_matrix((count_clics_encoded[\"count_clics\"].values,(count_clics_encoded[\"user_id\"].values, count_clics_encoded[\"click_article_id\"].values)),\n",
    "                       shape=(count_clics_encoded[\"user_id\"].max() + 1, count_clics_encoded[\"click_article_id\"].max() + 1))"
   ]
  },
  {
   "cell_type": "code",
   "execution_count": 11,
   "id": "32517988",
   "metadata": {},
   "outputs": [
    {
     "name": "stderr",
     "output_type": "stream",
     "text": [
      "C:\\Users\\luc19\\anaconda3\\lib\\site-packages\\implicit\\utils.py:33: UserWarning: Intel MKL BLAS detected. Its highly recommend to set the environment variable 'export MKL_NUM_THREADS=1' to disable its internal multithreading\n",
      "  warnings.warn(\n"
     ]
    },
    {
     "data": {
      "application/vnd.jupyter.widget-view+json": {
       "model_id": "ff349eb373ca46a9a511f50e5e7d8279",
       "version_major": 2,
       "version_minor": 0
      },
      "text/plain": [
       "  0%|          | 0/15 [00:00<?, ?it/s]"
      ]
     },
     "metadata": {},
     "output_type": "display_data"
    }
   ],
   "source": [
    "# Création du modèle\n",
    "model = implicit.als.AlternatingLeastSquares(factors=50)\n",
    "\n",
    "# Entraînement du modèle\n",
    "model.fit(count_clics_sparsed)"
   ]
  },
  {
   "cell_type": "code",
   "execution_count": 12,
   "id": "c17c8347",
   "metadata": {},
   "outputs": [
    {
     "data": {
      "text/plain": [
       "(array([37106, 27683, 17380, 38625, 18141]),\n",
       " array([0.46431664, 0.41406402, 0.14742061, 0.14593658, 0.13738927],\n",
       "       dtype=float32))"
      ]
     },
     "execution_count": 12,
     "metadata": {},
     "output_type": "execute_result"
    }
   ],
   "source": [
    "# Résultat pour un utilisateur\n",
    "user_id = 1\n",
    "recommendations = model.recommend(user_id, count_clics_sparsed[user_id], N=5)\n",
    "recommendations"
   ]
  },
  {
   "cell_type": "code",
   "execution_count": null,
   "id": "1c26f279",
   "metadata": {},
   "outputs": [],
   "source": []
  }
 ],
 "metadata": {
  "kernelspec": {
   "display_name": "Python 3 (ipykernel)",
   "language": "python",
   "name": "python3"
  },
  "language_info": {
   "codemirror_mode": {
    "name": "ipython",
    "version": 3
   },
   "file_extension": ".py",
   "mimetype": "text/x-python",
   "name": "python",
   "nbconvert_exporter": "python",
   "pygments_lexer": "ipython3",
   "version": "3.9.12"
  }
 },
 "nbformat": 4,
 "nbformat_minor": 5
}
